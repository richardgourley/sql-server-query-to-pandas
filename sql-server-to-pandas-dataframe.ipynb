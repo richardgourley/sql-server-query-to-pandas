{
 "cells": [
  {
   "cell_type": "markdown",
   "id": "47adc436",
   "metadata": {},
   "source": [
    "## Connect to SQL Server database"
   ]
  },
  {
   "cell_type": "code",
   "execution_count": 2,
   "id": "352f4e5c",
   "metadata": {},
   "outputs": [],
   "source": [
    "import pyodbc\n",
    "import pandas as pd"
   ]
  },
  {
   "cell_type": "code",
   "execution_count": 4,
   "id": "b4721579",
   "metadata": {},
   "outputs": [],
   "source": [
    "# Check the driver for your SQL Server version - \n",
    "pyodbc.drivers()"
   ]
  },
  {
   "cell_type": "code",
   "execution_count": 10,
   "id": "5b309c46",
   "metadata": {},
   "outputs": [],
   "source": [
    "# Create a connection string for SQL Server - replace values with yours\n",
    "connection_string = (\"Driver={YOUR SQL SERVER DRIVER NAME};\"\n",
    "\t\"Server=YOUR SERVER NAME;\"\n",
    "\t\"Database=YOUR DATABASE NAME;\"\n",
    "\t\"UID=YOUR USER NAME;\"\n",
    "\t\"PWD=YOUR PASSWORD\")"
   ]
  },
  {
   "cell_type": "code",
   "execution_count": 12,
   "id": "b296d4e8",
   "metadata": {},
   "outputs": [],
   "source": [
    "# Create variable 'conn' that connects to the database using the connection string\n",
    "conn = pyodbc.connect(connection_string)"
   ]
  },
  {
   "cell_type": "code",
   "execution_count": 14,
   "id": "508eecb2",
   "metadata": {},
   "outputs": [],
   "source": [
    "# Create a variable 'cursor' created from calling the cursor method on the conn variable\n",
    "cursor = conn.cursor()"
   ]
  },
  {
   "cell_type": "markdown",
   "id": "8133c34b",
   "metadata": {},
   "source": [
    "## Create Product and Category tables"
   ]
  },
  {
   "cell_type": "code",
   "execution_count": 37,
   "id": "ac1cc4e2",
   "metadata": {},
   "outputs": [
    {
     "data": {
      "text/plain": [
       "<pyodbc.Cursor at 0x7f7c434c3ab0>"
      ]
     },
     "execution_count": 37,
     "metadata": {},
     "output_type": "execute_result"
    }
   ],
   "source": [
    "# Create a products and a category table - execute the query via the cursor variable\n",
    "cursor.execute('''\n",
    "CREATE TABLE category(\n",
    "category_id INT PRIMARY KEY IDENTITY (1,1),\n",
    "category_name VARCHAR(100) NOT NULL\n",
    ");\n",
    "\n",
    "CREATE TABLE product(\n",
    "product_id INT PRIMARY KEY IDENTITY (1,1),\n",
    "product_name VARCHAR(100) NOT NULL,\n",
    "short_description VARCHAR(150) NOT NULL,\n",
    "price DECIMAL(10,2) NOT NULL,\n",
    "category_id INT NOT NULL,\n",
    "FOREIGN KEY (category_id) REFERENCES category(category_id)\n",
    ");\n",
    "\n",
    "''')"
   ]
  },
  {
   "cell_type": "markdown",
   "id": "ba24db22",
   "metadata": {},
   "source": [
    "## Insert Data into Tables"
   ]
  },
  {
   "cell_type": "code",
   "execution_count": 39,
   "id": "f863a67a",
   "metadata": {},
   "outputs": [
    {
     "data": {
      "text/plain": [
       "<pyodbc.Cursor at 0x7f7c434c3ab0>"
      ]
     },
     "execution_count": 39,
     "metadata": {},
     "output_type": "execute_result"
    }
   ],
   "source": [
    "# Insert some categories and products\n",
    "cursor.execute('''\n",
    "INSERT INTO category(category_name)\n",
    "VALUES\n",
    "('Health and Fitness'),\n",
    "('Technology'),\n",
    "('Pets'),\n",
    "('Home furnishings');\n",
    "\n",
    "INSERT INTO product(product_name, short_description, price, category_id)\n",
    "VALUES\n",
    "('Running machine','Excellent running machine', 299.99,1),\n",
    "('Exercise bike','Ride at home', 199.99,1),\n",
    "('Dog bed','Your pet will sleep well', 49.99,3),\n",
    "('Laptop','Powerful 8gb RAM laptop', 349.99,2),\n",
    "('4 seater sofa','Comfortable and comes in 3 styles', 549.99,4);\n",
    "\n",
    "''')\n"
   ]
  },
  {
   "cell_type": "markdown",
   "id": "d8d92567",
   "metadata": {},
   "source": [
    "## Run SQL queries"
   ]
  },
  {
   "cell_type": "code",
   "execution_count": 42,
   "id": "3c1a0b41",
   "metadata": {},
   "outputs": [
    {
     "name": "stdout",
     "output_type": "stream",
     "text": [
      "(1, 'Running machine', 'Excellent running machine', Decimal('299.99'), 1)\n",
      "(2, 'Exercise bike', 'Ride at home', Decimal('199.99'), 1)\n",
      "(3, 'Dog bed', 'Your pet will sleep well', Decimal('49.99'), 3)\n",
      "(4, 'Laptop', 'Powerful 8gb RAM laptop', Decimal('349.99'), 2)\n",
      "(5, '4 seater sofa', 'Comfortable and comes in 3 styles', Decimal('549.99'), 4)\n"
     ]
    }
   ],
   "source": [
    "# Run a simple query to check that the products have been added\n",
    "cursor.execute('''\n",
    "SELECT * FROM product\n",
    "''')\n",
    "\n",
    "for row in cursor:\n",
    "    print(row)\n",
    "    "
   ]
  },
  {
   "cell_type": "code",
   "execution_count": 44,
   "id": "273da083",
   "metadata": {},
   "outputs": [
    {
     "data": {
      "text/plain": [
       "<pyodbc.Cursor at 0x7f7c434c3ab0>"
      ]
     },
     "execution_count": 44,
     "metadata": {},
     "output_type": "execute_result"
    }
   ],
   "source": [
    "# Run a join query to get the products with their category name\n",
    "cursor.execute('''\n",
    "SELECT product.product_name, product.short_description, product.price, category.category_name\n",
    "FROM product\n",
    "INNER JOIN category\n",
    "ON product.category_id = category.category_id\n",
    "''')"
   ]
  },
  {
   "cell_type": "markdown",
   "id": "5a466bae",
   "metadata": {},
   "source": [
    "## Convert SQL inner join query result to Pandas DataFrame"
   ]
  },
  {
   "cell_type": "code",
   "execution_count": 43,
   "id": "6326cbf2",
   "metadata": {},
   "outputs": [],
   "source": [
    "# Create an empty list variable\n",
    "# This will be a list of lists that we can use to create a pandas data frame\n",
    "data_list = list()"
   ]
  },
  {
   "cell_type": "code",
   "execution_count": 45,
   "id": "f5afb537",
   "metadata": {},
   "outputs": [
    {
     "data": {
      "text/plain": [
       "[['Running machine',\n",
       "  'Excellent running machine',\n",
       "  Decimal('299.99'),\n",
       "  'Health and Fitness'],\n",
       " ['Exercise bike', 'Ride at home', Decimal('199.99'), 'Health and Fitness'],\n",
       " ['Dog bed', 'Your pet will sleep well', Decimal('49.99'), 'Pets'],\n",
       " ['Laptop', 'Powerful 8gb RAM laptop', Decimal('349.99'), 'Technology'],\n",
       " ['4 seater sofa',\n",
       "  'Comfortable and comes in 3 styles',\n",
       "  Decimal('549.99'),\n",
       "  'Home furnishings']]"
      ]
     },
     "execution_count": 45,
     "metadata": {},
     "output_type": "execute_result"
    }
   ],
   "source": [
    "# Append every row returned from the query into a list.\n",
    "for row in cursor:\n",
    "    # Convert each row to a list\n",
    "    row_as_list = list(row)\n",
    "    # Append (add) each row to the data list (list made up of lists)\n",
    "    data_list.append(row_as_list)\n",
    "\n",
    "# Check the data list looks ok\n",
    "data_list"
   ]
  },
  {
   "cell_type": "code",
   "execution_count": 47,
   "id": "3c200950",
   "metadata": {},
   "outputs": [],
   "source": [
    "# Create a pandas data frame \n",
    "# NOTE: The column names MUST match the column names from the data list\n",
    "df = pd.DataFrame(data_list, columns=['product_name', 'short_description', 'price', 'category_name'])"
   ]
  },
  {
   "cell_type": "code",
   "execution_count": 48,
   "id": "c66fa9eb",
   "metadata": {},
   "outputs": [
    {
     "data": {
      "text/html": [
       "<div>\n",
       "<style scoped>\n",
       "    .dataframe tbody tr th:only-of-type {\n",
       "        vertical-align: middle;\n",
       "    }\n",
       "\n",
       "    .dataframe tbody tr th {\n",
       "        vertical-align: top;\n",
       "    }\n",
       "\n",
       "    .dataframe thead th {\n",
       "        text-align: right;\n",
       "    }\n",
       "</style>\n",
       "<table border=\"1\" class=\"dataframe\">\n",
       "  <thead>\n",
       "    <tr style=\"text-align: right;\">\n",
       "      <th></th>\n",
       "      <th>product_name</th>\n",
       "      <th>short_description</th>\n",
       "      <th>price</th>\n",
       "      <th>category_name</th>\n",
       "    </tr>\n",
       "  </thead>\n",
       "  <tbody>\n",
       "    <tr>\n",
       "      <th>0</th>\n",
       "      <td>Running machine</td>\n",
       "      <td>Excellent running machine</td>\n",
       "      <td>299.99</td>\n",
       "      <td>Health and Fitness</td>\n",
       "    </tr>\n",
       "    <tr>\n",
       "      <th>1</th>\n",
       "      <td>Exercise bike</td>\n",
       "      <td>Ride at home</td>\n",
       "      <td>199.99</td>\n",
       "      <td>Health and Fitness</td>\n",
       "    </tr>\n",
       "    <tr>\n",
       "      <th>2</th>\n",
       "      <td>Dog bed</td>\n",
       "      <td>Your pet will sleep well</td>\n",
       "      <td>49.99</td>\n",
       "      <td>Pets</td>\n",
       "    </tr>\n",
       "    <tr>\n",
       "      <th>3</th>\n",
       "      <td>Laptop</td>\n",
       "      <td>Powerful 8gb RAM laptop</td>\n",
       "      <td>349.99</td>\n",
       "      <td>Technology</td>\n",
       "    </tr>\n",
       "    <tr>\n",
       "      <th>4</th>\n",
       "      <td>4 seater sofa</td>\n",
       "      <td>Comfortable and comes in 3 styles</td>\n",
       "      <td>549.99</td>\n",
       "      <td>Home furnishings</td>\n",
       "    </tr>\n",
       "  </tbody>\n",
       "</table>\n",
       "</div>"
      ],
      "text/plain": [
       "      product_name                  short_description   price  \\\n",
       "0  Running machine          Excellent running machine  299.99   \n",
       "1    Exercise bike                       Ride at home  199.99   \n",
       "2          Dog bed           Your pet will sleep well   49.99   \n",
       "3           Laptop            Powerful 8gb RAM laptop  349.99   \n",
       "4    4 seater sofa  Comfortable and comes in 3 styles  549.99   \n",
       "\n",
       "        category_name  \n",
       "0  Health and Fitness  \n",
       "1  Health and Fitness  \n",
       "2                Pets  \n",
       "3          Technology  \n",
       "4    Home furnishings  "
      ]
     },
     "execution_count": 48,
     "metadata": {},
     "output_type": "execute_result"
    }
   ],
   "source": [
    "# Check data frame is as expected\n",
    "df"
   ]
  }
 ],
 "metadata": {
  "kernelspec": {
   "display_name": "Python 3 (ipykernel)",
   "language": "python",
   "name": "python3"
  },
  "language_info": {
   "codemirror_mode": {
    "name": "ipython",
    "version": 3
   },
   "file_extension": ".py",
   "mimetype": "text/x-python",
   "name": "python",
   "nbconvert_exporter": "python",
   "pygments_lexer": "ipython3",
   "version": "3.9.7"
  }
 },
 "nbformat": 4,
 "nbformat_minor": 5
}
